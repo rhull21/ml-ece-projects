{
  "nbformat": 4,
  "nbformat_minor": 0,
  "metadata": {
    "kernelspec": {
      "display_name": "Python 3",
      "language": "python",
      "name": "python3"
    },
    "language_info": {
      "codemirror_mode": {
        "name": "ipython",
        "version": 3
      },
      "file_extension": ".py",
      "mimetype": "text/x-python",
      "name": "python",
      "nbconvert_exporter": "python",
      "pygments_lexer": "ipython3",
      "version": "3.6.12"
    },
    "colab": {
      "name": "HW_4_P1.ipynb",
      "provenance": [],
      "collapsed_sections": []
    }
  },
  "cells": [
    {
      "source": [
        "# HW_04 Problem #1\n",
        "\n",
        "<img src=\"assets/Hull-Robert-HW-04-0f0ceaa4.png\" width=\"600\" />\n",
        "\n",
        "### This Code was written by Robert 'Quinn' Hull, and borrowed elements from several other resources:\n",
        "* Resources used to make HW_04 Problem #1:\n",
        "  * The 'load CIFAR' dataset heavilty borrowed from pytorch tutorial - https://pytorch.org/tutorials/beginner/blitz/cifar10_tutorial.html\n",
        "  * A refresher on the MLP borrowed from machine learning mastery - https://machinelearningmastery.com/neural-networks-crash-course/\n",
        "  * Some code borrowed from medium . com about putting MLP into a pytorch - https://medium.com/@aungkyawmyint_26195/multi-layer-perceptron-mnist-pytorch-463f795b897a\n",
        "  * Some notes on regularization in MLP:\n",
        "    * https://cedar.buffalo.edu/~srihari/CSE574/Chap5/Chap5.5-Regularization.pdf\n",
        "  * Very helpful for avoiding a blocker with batch_size dimensions. Be very careful with linear layers as the first parameter is batch_size, this is different than for convolutional layers\n",
        "    * https://discuss.pytorch.org/t/valueerror-expected-input-batch-size-324-to-match-target-batch-size-4/24498valueerror-expected-input-batch-size-324-to-match-target-batch-size-4/24498\n",
        "    * https://towardsdatascience.com/pytorch-layer-dimensions-what-sizes-should-they-be-and-why-4265a41e01fd\n",
        "  * L2 normalization is implemented in the optimizer\n",
        "    * https://pytorch.org/docs/stable/optim.html\n",
        "  * How to save a model object\n",
        "    * https://pytorch.org/tutorials/beginner/saving_loading_models.html"
      ],
      "cell_type": "markdown",
      "metadata": {}
    },
    {
      "cell_type": "code",
      "metadata": {
        "id": "X6JnpW8BJ2Vn"
      },
      "source": [
        "%matplotlib inline"
      ],
      "execution_count": 1,
      "outputs": []
    },
    {
      "cell_type": "code",
      "metadata": {
        "id": "MDALLYcAJ2Vs"
      },
      "source": [
        "import torch\n",
        "import torchvision\n",
        "import torchvision.transforms as transforms\n",
        "from torch.utils.data.sampler import SubsetRandomSampler\n",
        "import matplotlib.pyplot as plt\n",
        "import numpy as np\n",
        "import torch.nn as nn\n",
        "import torch.nn.functional as F\n",
        "import torch.optim as optim\n",
        "\n",
        "import pandas as pd"
      ],
      "execution_count": 2,
      "outputs": []
    },
    {
      "cell_type": "markdown",
      "metadata": {
        "id": "wIGrW1hPKfQ3"
      },
      "source": [
        "# HW_04_Problem 1\n",
        "## MLP\n",
        "\n",
        "* Pseudocode:\n",
        "    1. Load CIFAR Data\n",
        "        * Show an image\n",
        "    2. Build two MLP models\n",
        "        * Multiple layer sizes\n",
        "        * Use regularization\n",
        "    3. For each model\n",
        "        4. Train a multi-layer perceptron (MLP) on the CIFAR10 data set\n",
        "            * Report error on training data\n",
        "                * w/ regularization\n",
        "                * w/o regularization\n",
        "            * include report of hyperparameters (epochs, regularization, learning rate)\n",
        "        5. Test a multi-layer perceptron (MLP) on the CIFAR10 data set\n",
        "            * Report error on testing data \n",
        "                * w/ regularization \n",
        "                * w/o regularization\n",
        "            * include report of hyperparameters (epochs, regularization, learning rate) \n",
        "        \n"
      ]
    },
    {
      "cell_type": "markdown",
      "metadata": {
        "id": "up6YAqE_KWSZ"
      },
      "source": [
        "### 1. Load CIFAR Dataset"
      ]
    },
    {
      "cell_type": "code",
      "metadata": {
        "id": "WzUsEtEoJ2Vs",
        "colab": {
          "base_uri": "https://localhost:8080/",
          "height": 0
        },
        "outputId": "e0cae871-15db-465b-c7ac-1dfb1328af75"
      },
      "source": [
        "# # number of subprocesses to use for data loading\n",
        "# num_workers = 0\n",
        "# how many samples per batch to load\n",
        "batch_size = 12\n",
        "# # percentage of training set to use as validation\n",
        "# valid_size = 0.2\n",
        "\n",
        "# convert data to torch.FloatTensor\n",
        "transform = transforms.Compose(\n",
        "    [transforms.ToTensor(),\n",
        "     transforms.Normalize((0.5, 0.5, 0.5), (0.5, 0.5, 0.5))])\n",
        "\n",
        "# choose the training and testing datasets\n",
        "train_data = torchvision.datasets.CIFAR10(root = './data', train = True, download = True, transform = transform)\n",
        "test_data = torchvision.datasets.CIFAR10(root = './data', train = False, download = True, transform = transform)\n",
        "\n",
        "train_loader = torch.utils.data.DataLoader(train_data, batch_size=batch_size,\n",
        "                                          shuffle=True, num_workers=0)\n",
        "test_loader = torch.utils.data.DataLoader(test_data, batch_size=batch_size,\n",
        "                                         shuffle=False, num_workers=0)\n",
        "\n"
      ],
      "execution_count": 4,
      "outputs": [
        {
          "output_type": "stream",
          "text": [
            "Files already downloaded and verified\n",
            "Files already downloaded and verified\n"
          ],
          "name": "stdout"
        }
      ]
    },
    {
      "cell_type": "markdown",
      "metadata": {
        "id": "3eKY62WZJ2Vs"
      },
      "source": [
        "### Show an Image\n",
        "\n"
      ]
    },
    {
      "cell_type": "code",
      "metadata": {
        "id": "pVWSshsLJ2Vt",
        "colab": {
          "base_uri": "https://localhost:8080/",
          "height": 154
        },
        "outputId": "1207ab8b-05f6-4b0d-ca49-4bf751a135b2"
      },
      "source": [
        "classes = ('plane', 'car', 'bird', 'cat',\n",
        "           'deer', 'dog', 'frog', 'horse', 'ship', 'truck')\n",
        "\n",
        "# functions to show an image\n",
        "def imshow(img):\n",
        "    img = img / 2 + 0.5     # unnormalize\n",
        "    npimg = img.numpy()\n",
        "    plt.imshow(np.transpose(npimg, (1, 2, 0)))\n",
        "    plt.show()\n",
        "\n",
        "\n",
        "# get some random training images\n",
        "dataiter = iter(train_loader)\n",
        "images, labels = dataiter.next()\n",
        "\n",
        "# show images\n",
        "imshow(torchvision.utils.make_grid(images))\n",
        "# print labels\n",
        "print(' '.join('%5s' % classes[labels[j]] for j in range(batch_size)))"
      ],
      "execution_count": 5,
      "outputs": [
        {
          "output_type": "display_data",
          "data": {
            "image/png": "[encoded data removed]",
            "text/plain": [
              "<Figure size 432x288 with 1 Axes>"
            ]
          },
          "metadata": {
            "tags": [],
            "needs_background": "light"
          }
        },
        {
          "output_type": "stream",
          "text": [
            "  car   cat  ship truck  bird  frog   car  frog truck horse  bird  bird\n"
          ],
          "name": "stdout"
        }
      ]
    },
    {
      "cell_type": "markdown",
      "metadata": {
        "id": "50ylYj_pk5KX"
      },
      "source": [
        "### Data Preparation"
      ]
    },
    {
      "cell_type": "markdown",
      "metadata": {
        "id": "Nyz8Rr_pkJXF"
      },
      "source": [
        "\n",
        "### 2. Build an MLP model"
      ]
    },
    {
      "cell_type": "code",
      "metadata": {
        "id": "UeejLk3LkhW4"
      },
      "source": [
        "# from pytorch tutorial (see resources)\n",
        "class Net(nn.Module):\n",
        "    def __init__(self):\n",
        "        super(Net, self).__init__()\n",
        "        self.conv1 = nn.Conv2d(3, 6, 5)\n",
        "        self.pool = nn.MaxPool2d(2, 2)\n",
        "        self.conv2 = nn.Conv2d(6, 16, 5)\n",
        "        self.fc1 = nn.Linear(16 * 5 * 5, 120)\n",
        "        self.fc2 = nn.Linear(120, 84)\n",
        "        self.fc3 = nn.Linear(84, 10)\n",
        "\n",
        "    def forward(self, x):\n",
        "        x = self.pool(F.relu(self.conv1(x)))\n",
        "        x = self.pool(F.relu(self.conv2(x)))\n",
        "        x = x.view(-1, 16 * 5 * 5)\n",
        "        x = F.relu(self.fc1(x))\n",
        "        x = F.relu(self.fc2(x))\n",
        "        x = self.fc3(x)\n",
        "        return x\n",
        "\n",
        "# modified from Net2 in medium article (see resources)\n",
        "class Net3(nn.Module):\n",
        "    '''a two-layer linear model \n",
        "      dropout: with default dropout = True\n",
        "      do_const: with default dropout countant = 0.2\n",
        "      hidden: with a default hidden dimension = 100\n",
        "    '''\n",
        "\n",
        "    def __init__(self, hidden=100, dropout=True, do_const=0.2):\n",
        "        super(Net3,self).__init__()\n",
        "\n",
        "        # characteristics of input\n",
        "        dim_1 = 32 # x dimensions of the figure\n",
        "        dim_2 = 32 # y dimensions of the figure\n",
        "        num_classes = 10 # number of output classes\n",
        "        num_col = 3 # since color images, for greyscale = 1\n",
        "\n",
        "        # number of hidden nodes in each layer\n",
        "        self.hidden_1  = hidden # hidden layer dimension (user defined)\n",
        "        self.hidden_2  = hidden # hidden layer dimension (user defined)\n",
        "\n",
        "        # dropout\n",
        "        self.dropout = dropout       \n",
        "        self.do_const = do_const\n",
        "\n",
        "        # linear layer (num_col*dim_1 * dim_2 -> hidden_1) *NOTE Adding num_col very important for avoiding batch size errors\n",
        "        self.fc1 = nn.Linear(3*32*32, self.hidden_1)\n",
        "        # linear layer (n_hidden -> hidden_2)\n",
        "        self.fc2 = nn.Linear(self.hidden_1,self.hidden_2)\n",
        "        # linear layer (n_hidden -> num_classes)\n",
        "        self.fc3 = nn.Linear(self.hidden_2,10)\n",
        "        \n",
        "        # optional dropout\n",
        "        if self.dropout:\n",
        "          # dropout layer (p=self.do_const)\n",
        "          # dropout prevents overfitting of data\n",
        "          self.droput = nn.Dropout(p=self.do_const)\n",
        "        else:\n",
        "          self.droput = nn.Dropout(p=0)\n",
        "        \n",
        "    def forward(self,x):\n",
        "        # print(x.shape)\n",
        "        # flatten image input (-1, num_col*dim_1*dim_2) *NOTE Adding num_col very important for avoiding batch size errors\n",
        "        x = x.view(-1,3*32*32)\n",
        "        # print(x.shape)\n",
        "        # add hidden layer, with relu activation function\n",
        "        x = F.relu(self.fc1(x))\n",
        "        # add dropout layer\n",
        "        x = self.droput(x)\n",
        "         # add hidden layer, with relu activation function\n",
        "        x = F.relu(self.fc2(x))\n",
        "\n",
        "        # optional dropout\n",
        "        if self.dropout:\n",
        "          # add dropout layer\n",
        "          x = self.droput(x)\n",
        "        else:\n",
        "          x = self.droput(x)\n",
        "    \n",
        "        # add output layer\n",
        "        x = self.fc3(x)\n",
        "        return x\n"
      ],
      "execution_count": 6,
      "outputs": []
    },
    {
      "cell_type": "markdown",
      "metadata": {
        "id": "x06i7K6ls3_P"
      },
      "source": [
        "### 3. Train each model\n",
        "* Prelim - Create a pandas array to store all the information re: training and testing\n",
        "* Prelim - Define a loss function and optimizer\n",
        "\n",
        "4. First, train the simplest neural net\n",
        "  * with regularization\n",
        "  * without regularization\n",
        "5. Then, test the more complicated neural net (with convolution)\n",
        "  * with regularization \n",
        "  * without regularization\n",
        "6. Save the data"
      ]
    },
    {
      "cell_type": "code",
      "metadata": {
        "id": "hHDq60AmIkVC"
      },
      "source": [
        "# Prelim - Create a pandas array to store all the information re: training and testing\n",
        "model_df = pd.DataFrame(columns=['model_name', 'net', 'train_err', 'test_error', 'model_dict', 'optim_dict'])"
      ],
      "execution_count": 7,
      "outputs": []
    },
    {
      "cell_type": "markdown",
      "metadata": {
        "id": "c-g4zBQ1Iu1G"
      },
      "source": [
        "### Prelim"
      ]
    },
    {
      "cell_type": "code",
      "metadata": {
        "colab": {
          "base_uri": "https://localhost:8080/",
          "height": 0
        },
        "id": "XbmsedhCIY7L",
        "outputId": "a06e22b4-c8c4-4f4b-a26d-4f76ef7349e1"
      },
      "source": [
        "# Prelim define loss function, optimizer, and other hyperparameters\n",
        "lr = 0.001\n",
        "momentum = 0.9\n",
        "n_epochs = 5\n",
        "\n",
        "# L2\n",
        "L2_penalty = True # the L2 penalty is par tof the optimizer\n",
        "L2_constant = 1e-2 # some L2 constant > 0\n",
        "\n",
        "# dropout\n",
        "dropout=False\n",
        "do_const=0.5\n",
        "\n",
        "# hidden layers\n",
        "hidden = 50\n",
        "\n",
        "# set up net\n",
        "net_in = Net3(hidden=hidden, dropout=dropout, do_const=do_const)\n",
        "print(net_in)\n",
        "\n",
        "# controls optimization\n",
        "criterion = nn.CrossEntropyLoss()\n",
        "if L2_penalty: # add regularization if desired\n",
        "  optimizer = optim.SGD(net_in.parameters(), lr=0.001, momentum=0.9, weight_decay=L2_constant)\n",
        "else:\n",
        "  optimizer = optim.SGD(net_in.parameters(), lr=0.001, momentum=0.9, weight_decay=0)\n",
        "\n",
        "# assembles list of loss for plotting\n",
        "loss_list = []\n",
        "\n",
        "# creates model name\n",
        "model_name = str(hidden)+'HLN+'+'L2='+str(L2_penalty)\n",
        "print(model_name)"
      ],
      "execution_count": 53,
      "outputs": [
        {
          "output_type": "stream",
          "text": [
            "Net3(\n",
            "  (fc1): Linear(in_features=3072, out_features=50, bias=True)\n",
            "  (fc2): Linear(in_features=50, out_features=50, bias=True)\n",
            "  (fc3): Linear(in_features=50, out_features=10, bias=True)\n",
            "  (droput): Dropout(p=0, inplace=False)\n",
            ")\n",
            "50HLN+L2=True\n"
          ],
          "name": "stdout"
        }
      ]
    },
    {
      "cell_type": "markdown",
      "metadata": {
        "id": "e99HDHwRIzSW"
      },
      "source": [
        "### 4. Train the neural Net"
      ]
    },
    {
      "cell_type": "code",
      "metadata": {
        "colab": {
          "base_uri": "https://localhost:8080/",
          "height": 387
        },
        "id": "WNbo2WfJs4W9",
        "outputId": "055a2252-8b09-4c1a-ce61-0be83cf2dbd7"
      },
      "source": [
        "# training\n",
        "for epoch in range(n_epochs):  # loop over the dataset multiple times\n",
        "\n",
        "    running_loss = 0.0 # keep track of loss within each epoch\n",
        "\n",
        "    for i, data in enumerate(train_loader, 0): # loop through batches in train\n",
        "        \n",
        "        # get the inputs; data is a list of [inputs, labels]\n",
        "        inputs, labels = data\n",
        "\n",
        "        # zero the parameter gradients\n",
        "        optimizer.zero_grad()\n",
        "\n",
        "        # forward + backward + optimize\n",
        "        outputs = net_in(inputs)\n",
        "        loss = criterion(outputs, labels)\n",
        "        loss.backward()\n",
        "        optimizer.step()\n",
        "\n",
        "        # update loss statistics\n",
        "        running_loss += loss.item()\n",
        "\n",
        "    # print and save loss statistics\n",
        "    print(running_loss / i)\n",
        "    loss_list.append(running_loss / i)\n",
        "    running_loss = 0.0\n",
        "\n",
        "\n",
        "# final things\n",
        "print('Finished Training')\n",
        "\n",
        "# save some results\n",
        "\n",
        "# plot\n",
        "plt.plot(np.arange(0,len(loss_list)), loss_list)\n",
        "plt.title('epochs v loss (cross entropy)')\n",
        "plt.show()\n",
        "      \n"
      ],
      "execution_count": 54,
      "outputs": [
        {
          "output_type": "stream",
          "text": [
            "1.7955943031260673\n",
            "1.5903667818309593\n",
            "1.5236713025384492\n",
            "1.4848844187081118\n",
            "1.4606699741808085\n",
            "Finished Training\n"
          ],
          "name": "stdout"
        },
        {
          "output_type": "display_data",
          "data": {
            "image/png": "[encoded data removed]",
            "text/plain": [
              "<Figure size 432x288 with 1 Axes>"
            ]
          },
          "metadata": {
            "tags": [],
            "needs_background": "light"
          }
        }
      ]
    },
    {
      "cell_type": "markdown",
      "metadata": {
        "id": "RrKnomPiURnd"
      },
      "source": [
        "### 5. test and\n",
        "### 6. save"
      ]
    },
    {
      "cell_type": "code",
      "metadata": {
        "id": "6R_y6pKQUbm-"
      },
      "source": [
        "# train\n",
        "correct = 0\n",
        "total = 0\n",
        "with torch.no_grad():\n",
        "    for data in train_loader:\n",
        "        images, labels = data\n",
        "        outputs = net_in(images)\n",
        "        _, predicted = torch.max(outputs.data, 1)\n",
        "        total += labels.size(0)\n",
        "        correct += (predicted == labels).sum().item()\n",
        "\n",
        "# create train error, where train error is the percent mis-identified (expressed as a float between 0 and 1)\n",
        "train_err = 1 - (correct / total)\n",
        "\n",
        "# test\n",
        "correct = 0\n",
        "total = 0\n",
        "with torch.no_grad():\n",
        "    for data in test_loader:\n",
        "        images, labels = data\n",
        "        outputs = net_in(images)\n",
        "        _, predicted = torch.max(outputs.data, 1)\n",
        "        total += labels.size(0)\n",
        "        correct += (predicted == labels).sum().item()\n",
        "\n",
        "# create test error, where test error is the percent mis-identified (expressed as a float between 0 and 1)\n",
        "test_err = 1 - (correct / total)"
      ],
      "execution_count": 55,
      "outputs": []
    },
    {
      "cell_type": "code",
      "metadata": {
        "id": "kLqi2wO3Trvw"
      },
      "source": [
        "model_df = model_df.append({'model_name': model_name, 'net': net_in, \n",
        "                            'train_err': train_err, 'test_error': test_err, 'model_dict': net_in.state_dict(), 'optim_dict': optimizer.state_dict()}, ignore_index=True)"
      ],
      "execution_count": 58,
      "outputs": []
    },
    {
      "cell_type": "markdown",
      "metadata": {
        "id": "o1wV42mfhMFI"
      },
      "source": [
        "PLOT "
      ]
    },
    {
      "cell_type": "code",
      "metadata": {
        "colab": {
          "base_uri": "https://localhost:8080/",
          "height": 287
        },
        "id": "pSm7MPQgWE_R",
        "outputId": "708029c0-7561-4ae4-c2ef-fd7c330696c4"
      },
      "source": [
        " model_df[['model_name', 'train_err', 'test_error', 'L2_penalty', 'num_nodes', 'num_layers']].sort_index()"
      ],
      "execution_count": 80,
      "outputs": [
        {
          "output_type": "execute_result",
          "data": {
            "text/html": [
              "<div>\n",
              "<style scoped>\n",
              "    .dataframe tbody tr th:only-of-type {\n",
              "        vertical-align: middle;\n",
              "    }\n",
              "\n",
              "    .dataframe tbody tr th {\n",
              "        vertical-align: top;\n",
              "    }\n",
              "\n",
              "    .dataframe thead th {\n",
              "        text-align: right;\n",
              "    }\n",
              "</style>\n",
              "<table border=\"1\" class=\"dataframe\">\n",
              "  <thead>\n",
              "    <tr style=\"text-align: right;\">\n",
              "      <th></th>\n",
              "      <th>model_name</th>\n",
              "      <th>train_err</th>\n",
              "      <th>test_error</th>\n",
              "      <th>L2_penalty</th>\n",
              "      <th>num_nodes</th>\n",
              "      <th>num_layers</th>\n",
              "    </tr>\n",
              "  </thead>\n",
              "  <tbody>\n",
              "    <tr>\n",
              "      <th>1</th>\n",
              "      <td>200HLN+L2=False</td>\n",
              "      <td>0.39780</td>\n",
              "      <td>0.4666</td>\n",
              "      <td>0.00</td>\n",
              "      <td>200</td>\n",
              "      <td>2</td>\n",
              "    </tr>\n",
              "    <tr>\n",
              "      <th>2</th>\n",
              "      <td>200HLN+L2=True</td>\n",
              "      <td>0.47864</td>\n",
              "      <td>0.5067</td>\n",
              "      <td>0.01</td>\n",
              "      <td>200</td>\n",
              "      <td>2</td>\n",
              "    </tr>\n",
              "    <tr>\n",
              "      <th>3</th>\n",
              "      <td>200HLN+L2=True</td>\n",
              "      <td>0.90000</td>\n",
              "      <td>0.9000</td>\n",
              "      <td>0.50</td>\n",
              "      <td>200</td>\n",
              "      <td>2</td>\n",
              "    </tr>\n",
              "    <tr>\n",
              "      <th>4</th>\n",
              "      <td>50HLN+L2=False</td>\n",
              "      <td>0.45254</td>\n",
              "      <td>0.4956</td>\n",
              "      <td>0.00</td>\n",
              "      <td>50</td>\n",
              "      <td>2</td>\n",
              "    </tr>\n",
              "    <tr>\n",
              "      <th>5</th>\n",
              "      <td>50HLN+L2=True</td>\n",
              "      <td>0.49738</td>\n",
              "      <td>0.5181</td>\n",
              "      <td>0.01</td>\n",
              "      <td>50</td>\n",
              "      <td>2</td>\n",
              "    </tr>\n",
              "    <tr>\n",
              "      <th>6</th>\n",
              "      <td>50HLN+L2=True</td>\n",
              "      <td>0.90000</td>\n",
              "      <td>0.9000</td>\n",
              "      <td>0.50</td>\n",
              "      <td>50</td>\n",
              "      <td>2</td>\n",
              "    </tr>\n",
              "    <tr>\n",
              "      <th>7</th>\n",
              "      <td>50HLN+L2=True</td>\n",
              "      <td>0.90000</td>\n",
              "      <td>0.9000</td>\n",
              "      <td>0.50</td>\n",
              "      <td>50</td>\n",
              "      <td>2</td>\n",
              "    </tr>\n",
              "    <tr>\n",
              "      <th>8</th>\n",
              "      <td>5HLN+L2=False</td>\n",
              "      <td>0.65572</td>\n",
              "      <td>0.6646</td>\n",
              "      <td>0.00</td>\n",
              "      <td>5</td>\n",
              "      <td>2</td>\n",
              "    </tr>\n",
              "  </tbody>\n",
              "</table>\n",
              "</div>"
            ],
            "text/plain": [
              "        model_name  train_err  test_error  L2_penalty  num_nodes  num_layers\n",
              "1  200HLN+L2=False    0.39780      0.4666        0.00        200           2\n",
              "2   200HLN+L2=True    0.47864      0.5067        0.01        200           2\n",
              "3   200HLN+L2=True    0.90000      0.9000        0.50        200           2\n",
              "4   50HLN+L2=False    0.45254      0.4956        0.00         50           2\n",
              "5    50HLN+L2=True    0.49738      0.5181        0.01         50           2\n",
              "6    50HLN+L2=True    0.90000      0.9000        0.50         50           2\n",
              "7    50HLN+L2=True    0.90000      0.9000        0.50         50           2\n",
              "8    5HLN+L2=False    0.65572      0.6646        0.00          5           2"
            ]
          },
          "metadata": {
            "tags": []
          },
          "execution_count": 80
        }
      ]
    },
    {
      "cell_type": "code",
      "metadata": {
        "colab": {
          "base_uri": "https://localhost:8080/",
          "height": 0
        },
        "id": "QW-ISCxmhu52",
        "outputId": "8a84291e-c52f-435d-a8fd-d3bc66b7e73a"
      },
      "source": [
        "i = 0\n",
        "for model in model_df['model_dict']:\n",
        "  i = i + 1\n",
        "  print('Model', i)\n",
        "  for param_tensor in model:\n",
        "      print(param_tensor, \"\\t\", model[param_tensor].size())\n",
        "  \n",
        "  print()\n",
        "\n",
        "\n",
        "i = 0\n",
        "for optimizer in model_df['optim_dict']:\n",
        "  i = i + 1\n",
        "  print('Model', i)\n",
        "  for var_name in optimizer:\n",
        "      if var_name == 'state':\n",
        "        a = 1\n",
        "      else:\n",
        "        print((var_name), \"\\t\", optimizer[var_name])\n",
        "  \n",
        "  print()\n"
      ],
      "execution_count": 98,
      "outputs": [
        {
          "output_type": "stream",
          "text": [
            "Model 1\n",
            "fc1.weight \t torch.Size([200, 3072])\n",
            "fc1.bias \t torch.Size([200])\n",
            "fc2.weight \t torch.Size([200, 200])\n",
            "fc2.bias \t torch.Size([200])\n",
            "fc3.weight \t torch.Size([10, 200])\n",
            "fc3.bias \t torch.Size([10])\n",
            "\n",
            "Model 2\n",
            "fc1.weight \t torch.Size([200, 3072])\n",
            "fc1.bias \t torch.Size([200])\n",
            "fc2.weight \t torch.Size([200, 200])\n",
            "fc2.bias \t torch.Size([200])\n",
            "fc3.weight \t torch.Size([10, 200])\n",
            "fc3.bias \t torch.Size([10])\n",
            "\n",
            "Model 3\n",
            "fc1.weight \t torch.Size([200, 3072])\n",
            "fc1.bias \t torch.Size([200])\n",
            "fc2.weight \t torch.Size([200, 200])\n",
            "fc2.bias \t torch.Size([200])\n",
            "fc3.weight \t torch.Size([10, 200])\n",
            "fc3.bias \t torch.Size([10])\n",
            "\n",
            "Model 4\n",
            "fc1.weight \t torch.Size([50, 3072])\n",
            "fc1.bias \t torch.Size([50])\n",
            "fc2.weight \t torch.Size([50, 50])\n",
            "fc2.bias \t torch.Size([50])\n",
            "fc3.weight \t torch.Size([10, 50])\n",
            "fc3.bias \t torch.Size([10])\n",
            "\n",
            "Model 5\n",
            "fc1.weight \t torch.Size([50, 3072])\n",
            "fc1.bias \t torch.Size([50])\n",
            "fc2.weight \t torch.Size([50, 50])\n",
            "fc2.bias \t torch.Size([50])\n",
            "fc3.weight \t torch.Size([10, 50])\n",
            "fc3.bias \t torch.Size([10])\n",
            "\n",
            "Model 6\n",
            "fc1.weight \t torch.Size([50, 3072])\n",
            "fc1.bias \t torch.Size([50])\n",
            "fc2.weight \t torch.Size([50, 50])\n",
            "fc2.bias \t torch.Size([50])\n",
            "fc3.weight \t torch.Size([10, 50])\n",
            "fc3.bias \t torch.Size([10])\n",
            "\n",
            "Model 7\n",
            "fc1.weight \t torch.Size([50, 3072])\n",
            "fc1.bias \t torch.Size([50])\n",
            "fc2.weight \t torch.Size([50, 50])\n",
            "fc2.bias \t torch.Size([50])\n",
            "fc3.weight \t torch.Size([10, 50])\n",
            "fc3.bias \t torch.Size([10])\n",
            "\n",
            "Model 8\n",
            "fc1.weight \t torch.Size([5, 3072])\n",
            "fc1.bias \t torch.Size([5])\n",
            "fc2.weight \t torch.Size([5, 5])\n",
            "fc2.bias \t torch.Size([5])\n",
            "fc3.weight \t torch.Size([10, 5])\n",
            "fc3.bias \t torch.Size([10])\n",
            "\n",
            "Model 1\n",
            "param_groups \t [{'lr': 0.001, 'momentum': 0.9, 'dampening': 0, 'weight_decay': 0, 'nesterov': False, 'params': [0, 1, 2, 3, 4, 5]}]\n",
            "\n",
            "Model 2\n",
            "param_groups \t [{'lr': 0.001, 'momentum': 0.9, 'dampening': 0, 'weight_decay': 0.01, 'nesterov': False, 'params': [0, 1, 2, 3, 4, 5]}]\n",
            "\n",
            "Model 3\n",
            "param_groups \t [{'lr': 0.001, 'momentum': 0.9, 'dampening': 0, 'weight_decay': 0.5, 'nesterov': False, 'params': [0, 1, 2, 3, 4, 5]}]\n",
            "\n",
            "Model 4\n",
            "param_groups \t [{'lr': 0.001, 'momentum': 0.9, 'dampening': 0, 'weight_decay': 0, 'nesterov': False, 'params': [0, 1, 2, 3, 4, 5]}]\n",
            "\n",
            "Model 5\n",
            "param_groups \t [{'lr': 0.001, 'momentum': 0.9, 'dampening': 0, 'weight_decay': 0.01, 'nesterov': False, 'params': [0, 1, 2, 3, 4, 5]}]\n",
            "\n",
            "Model 6\n",
            "param_groups \t [{'lr': 0.001, 'momentum': 0.9, 'dampening': 0, 'weight_decay': 0.5, 'nesterov': False, 'params': [0, 1, 2, 3, 4, 5]}]\n",
            "\n",
            "Model 7\n",
            "param_groups \t [{'lr': 0.001, 'momentum': 0.9, 'dampening': 0, 'weight_decay': 0.5, 'nesterov': False, 'params': [0, 1, 2, 3, 4, 5]}]\n",
            "\n",
            "Model 8\n",
            "param_groups \t [{'lr': 0.001, 'momentum': 0.9, 'dampening': 0, 'weight_decay': 0, 'nesterov': False, 'params': [0, 1, 2, 3, 4, 5]}]\n",
            "\n"
          ],
          "name": "stdout"
        }
      ]
    },
    {
      "cell_type": "markdown",
      "metadata": {
        "id": "pe4elb1jPYJh"
      },
      "source": [
        "### BONUS. Fun extra tests"
      ]
    },
    {
      "cell_type": "code",
      "metadata": {
        "colab": {
          "base_uri": "https://localhost:8080/",
          "height": 403
        },
        "id": "KGIlxJuZPqkK",
        "outputId": "60cd2b4a-01ee-4852-cd29-6ae93bdf92f2"
      },
      "source": [
        "# # check that test data are set up\n",
        "# dataiter = iter(test_loader)\n",
        "# images, labels = dataiter.next()\n",
        "\n",
        "# # print images\n",
        "# imshow(torchvision.utils.make_grid(images))\n",
        "# print('GroundTruth: ', ' '.join('%5s' % classes[labels[j]] for j in range(batch_size)))\n",
        "\n",
        "# # preliminary check\n",
        "# outputs = net_in(images)\n",
        "# _, predicted = torch.max(outputs, 1)\n",
        "\n",
        "# print('Predicted: ', ' '.join('%5s' % classes[predicted[j]]\n",
        "#                               for j in range(batch_size)))\n",
        "\n",
        "# # final check\n",
        "# correct = 0\n",
        "# total = 0\n",
        "# with torch.no_grad():\n",
        "#     for data in test_loader:\n",
        "#         images, labels = data\n",
        "#         outputs = net_in(images)\n",
        "#         _, predicted = torch.max(outputs.data, 1)\n",
        "#         total += labels.size(0)\n",
        "#         correct += (predicted == labels).sum().item()\n",
        "\n",
        "# print('\\n Accuracy of the network on the 10000 test images: %d %%' % (\n",
        "#     100 * correct / total))\n",
        "\n",
        "# # What are the classes that performed well, and the classes that did not perform well:\n",
        "# print('')\n",
        "# class_correct = list(0. for i in range(10))\n",
        "# class_total = list(0. for i in range(10))\n",
        "# with torch.no_grad():\n",
        "#     for data in test_loader:\n",
        "#         images, labels = data\n",
        "#         outputs = net_in(images)\n",
        "#         _, predicted = torch.max(outputs, 1)\n",
        "#         c = (predicted == labels).squeeze()\n",
        "#         for i in range(4):\n",
        "#             label = labels[i]\n",
        "#             class_correct[label] += c[i].item()\n",
        "#             class_total[label] += 1\n",
        "\n",
        "# for i in range(10):\n",
        "#     print('Accuracy of %5s : %2d %%' % (\n",
        "#         classes[i], 100 * class_correct[i] / class_total[i]))"
      ],
      "execution_count": 13,
      "outputs": [
        {
          "output_type": "display_data",
          "data": {
            "image/png": "[encoded data removed]",
            "text/plain": [
              "<Figure size 432x288 with 1 Axes>"
            ]
          },
          "metadata": {
            "tags": [],
            "needs_background": "light"
          }
        },
        {
          "output_type": "stream",
          "text": [
            "GroundTruth:    cat  ship  ship plane  frog  frog   car  frog   cat   car plane truck\n",
            "Predicted:    cat truck plane  bird  deer  frog   cat  frog   dog   car plane truck\n",
            "\n",
            " Accuracy of the network on the 10000 test images: 53 %\n",
            "\n",
            "Accuracy of plane : 61 %\n",
            "Accuracy of   car : 61 %\n",
            "Accuracy of  bird : 31 %\n",
            "Accuracy of   cat : 36 %\n",
            "Accuracy of  deer : 44 %\n",
            "Accuracy of   dog : 41 %\n",
            "Accuracy of  frog : 59 %\n",
            "Accuracy of horse : 66 %\n",
            "Accuracy of  ship : 69 %\n",
            "Accuracy of truck : 61 %\n"
          ],
          "name": "stdout"
        }
      ]
    }
  ]
}